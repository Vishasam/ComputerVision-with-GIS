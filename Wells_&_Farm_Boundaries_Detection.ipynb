{
  "nbformat": 4,
  "nbformat_minor": 0,
  "metadata": {
    "colab": {
      "provenance": [],
      "gpuType": "T4",
      "collapsed_sections": [
        "tDtp4bV8ajyg",
        "JFdd3ROsn3O5",
        "hPKZTZxqarEg"
      ]
    },
    "kernelspec": {
      "name": "python3",
      "display_name": "Python 3"
    },
    "language_info": {
      "name": "python"
    },
    "accelerator": "GPU"
  },
  "cells": [
    {
      "cell_type": "code",
      "source": [
        "from google.colab import drive\n",
        "drive.mount('/content/drive')"
      ],
      "metadata": {
        "colab": {
          "base_uri": "https://localhost:8080/"
        },
        "id": "MsoAXJGNUuof",
        "outputId": "63c92f10-adcf-48a7-ae64-41ac2493de75"
      },
      "execution_count": 1,
      "outputs": [
        {
          "output_type": "stream",
          "name": "stdout",
          "text": [
            "Mounted at /content/drive\n"
          ]
        }
      ]
    },
    {
      "cell_type": "markdown",
      "source": [
        "#wells detection\n"
      ],
      "metadata": {
        "id": "tDtp4bV8ajyg"
      }
    },
    {
      "cell_type": "code",
      "source": [
        "!pip install rasterio"
      ],
      "metadata": {
        "id": "LIw9AbVEUH7R"
      },
      "execution_count": null,
      "outputs": []
    },
    {
      "cell_type": "code",
      "execution_count": null,
      "metadata": {
        "id": "PuVg4lpSTUNg"
      },
      "outputs": [],
      "source": [
        "import numpy as np\n",
        "from PIL import Image, ImageDraw, ImageChops, ImageEnhance\n",
        "import geopandas as gpd\n",
        "import rasterio\n",
        "import matplotlib.pyplot as plt\n",
        "from skimage.feature import canny\n",
        "from skimage.transform import hough_circle, hough_circle_peaks\n",
        "from matplotlib.patches import Circle\n",
        "from shapely.geometry import Point\n",
        "from skimage.segmentation import slic\n",
        "from skimage.measure import regionprops\n",
        "import pandas as pd\n",
        "import cv2"
      ]
    },
    {
      "cell_type": "code",
      "source": [
        "# Function to load the image\n",
        "def load_image(image_path):\n",
        "    image = Image.open(image_path)\n",
        "    return image\n",
        "\n",
        "# Function to resize the image\n",
        "def resize_image(image, target_size):\n",
        "    image = image.resize(target_size, resample=Image.LANCZOS)\n",
        "    return image\n",
        "\n",
        "# Function to normalize the image\n",
        "def normalize_image(image):\n",
        "    image_array = np.array(image)\n",
        "    normalized_image = image_array.astype(np.float32) / 255.0\n",
        "    return normalized_image\n",
        "\n",
        "# Function to enhance the contrast of the image\n",
        "def enhance_contrast(image):\n",
        "    enhanced_image = ImageEnhance.Contrast(image).enhance(1.5)\n",
        "    return enhanced_image\n",
        "\n",
        "\n",
        "# Function for image segmentation using SLIC algorithm\n",
        "def image_segmentation(image, n_segments=1000, compactness=10, sigma=1):\n",
        "    segments = slic(image, n_segments=n_segments, compactness=compactness, sigma=sigma)\n",
        "    return segments\n",
        "\n",
        "# Function to extract features for each segment\n",
        "def extract_features_for_segments(segments, image):\n",
        "    segment_props = regionprops(segments)\n",
        "    features_list = []\n",
        "\n",
        "    for segment in segment_props:\n",
        "        segment_id = segment.label\n",
        "\n",
        "        # Feature 1: Mean Color\n",
        "        mean_color = np.mean(image[segments == segment_id], axis=0)\n",
        "\n",
        "        # Feature 2: Standard Deviation of Color\n",
        "        std_color = np.std(image[segments == segment_id], axis=0)\n",
        "\n",
        "        # Feature 3: Area (Number of Pixels in the Segment)\n",
        "        area = segment.area\n",
        "\n",
        "        # Feature 4: Perimeter of the Segment\n",
        "        perimeter = segment.perimeter\n",
        "\n",
        "        # Create a dictionary of features for this segment\n",
        "        segment_features = {\n",
        "            'SegmentID': segment_id,\n",
        "            'MeanColor': mean_color.tolist(),\n",
        "            'StdColor': std_color.tolist(),\n",
        "            'Area': area,\n",
        "            'Perimeter': perimeter\n",
        "        }\n",
        "\n",
        "        # Append the features of this segment to the list\n",
        "        features_list.append(segment_features)\n",
        "\n",
        "    # Convert the list of dictionaries to a Pandas DataFrame for easy manipulation\n",
        "    features_df = pd.DataFrame(features_list)\n",
        "\n",
        "    return features_df"
      ],
      "metadata": {
        "id": "B8dlrSdTUH92"
      },
      "execution_count": null,
      "outputs": []
    },
    {
      "cell_type": "code",
      "source": [
        "# Function to z-score normalize data\n",
        "def z_score_normalize(data):\n",
        "    mean_value = data.mean()\n",
        "    std_value = data.std()\n",
        "    normalized_data = (data - mean_value) / std_value\n",
        "    return normalized_data"
      ],
      "metadata": {
        "id": "n_CVFkHvUIBV"
      },
      "execution_count": null,
      "outputs": []
    },
    {
      "cell_type": "code",
      "source": [
        "# Load the satellite image\n",
        "file_path = \"/content/drive/MyDrive/FarmWise AI/CV Assignment with Dataset (1)/CV Assignment with Dataset/satellite_image/kariyamangalam_clipped_raster.tif\"\n",
        "with rasterio.open(file_path) as src:\n",
        "    data = src.read()\n",
        "    metadata = src.meta"
      ],
      "metadata": {
        "id": "XHLxVIuUUhRv"
      },
      "execution_count": null,
      "outputs": []
    },
    {
      "cell_type": "code",
      "source": [
        "# Preprocessing\n",
        "target_size = (512, 512)\n",
        "image = load_image(file_path)\n",
        "image = resize_image(image, target_size)\n",
        "image = enhance_contrast(image)\n",
        "normalized_image = normalize_image(image)\n",
        "\n",
        "# Image Segmentation\n",
        "n_segments = 1000\n",
        "compactness = 10\n",
        "sigma = 1\n",
        "segments = image_segmentation(normalized_image, n_segments=n_segments, compactness=compactness, sigma=sigma)\n",
        "\n",
        "# Feature Extraction\n",
        "features_df = extract_features_for_segments(segments, normalized_image)\n",
        "\n",
        "# Normalize the pixel values for each band\n",
        "for band_number in range(metadata[\"count\"]):\n",
        "    data[band_number] = z_score_normalize(data[band_number])\n",
        "\n",
        "# Save the normalized data to a new raster file\n",
        "normalized_file = \"/content/drive/MyDrive/FarmWise AI/CV Assignment with Dataset (1)/CV Assignment with Dataset/satellite_image/normalized_raster.tif\"\n",
        "with rasterio.open(normalized_file, \"w\", **metadata) as dst:\n",
        "    dst.write(data)"
      ],
      "metadata": {
        "id": "teZ_VPbIUhOT"
      },
      "execution_count": null,
      "outputs": []
    },
    {
      "cell_type": "code",
      "source": [
        "# Loading normalized raster image\n",
        "with rasterio.open(normalized_file) as src:\n",
        "    normalized_data = src.read()\n",
        "    metadata = src.meta\n",
        "    # Choose a particular band\n",
        "    band_to_segment = 1\n",
        "    normalized_band_data = normalized_data[band_to_segment]\n",
        "    # Convert the normalized band data to grayscale\n",
        "    gray_band_data = (normalized_band_data * 255).astype(np.uint8)\n",
        "\n",
        "# Enhance contrast\n",
        "equalized_band_data = cv2.equalizeHist(gray_band_data)\n",
        "\n",
        "# Sobel edge detection\n",
        "sobel_x = cv2.Sobel(equalized_band_data, cv2.CV_64F, 1, 0, ksize=3)\n",
        "sobel_y = cv2.Sobel(equalized_band_data, cv2.CV_64F, 0, 1, ksize=3)\n",
        "gradient_magnitude = np.sqrt(sobel_x ** 2 + sobel_y ** 2)\n",
        "\n",
        "# Define parameters\n",
        "min_radius = 8\n",
        "max_radius = 70\n",
        "canny_sigma = 4.0\n",
        "\n",
        "# Canny edge detection on the gradient magnitude image\n",
        "edges = canny(gradient_magnitude, sigma=canny_sigma)\n",
        "\n",
        "# Detecting circles - Hough Circle Transform\n",
        "hough_radii = np.arange(min_radius, max_radius + 1)\n",
        "hough_res = hough_circle(edges, hough_radii)\n",
        "\n",
        "# Finding most prominent circles\n",
        "accums, cx, cy, radii = hough_circle_peaks(hough_res, hough_radii, total_num_peaks=40)"
      ],
      "metadata": {
        "id": "vtFCsn28UhK3"
      },
      "execution_count": null,
      "outputs": []
    },
    {
      "cell_type": "code",
      "source": [
        "# Load the satellite image using rasterio\n",
        "with rasterio.open(file_path) as src:\n",
        "    satellite_image = src.read()\n",
        "\n",
        "# Create a geopandas GeoDataFrame to store the detected circles (wells)\n",
        "gdf_wells = gpd.GeoDataFrame(columns=['geometry'])\n",
        "\n",
        "# Convert the pixel coordinates of detected circles (wells) to geographical coordinates\n",
        "for center_y, center_x, radius in zip(cy, cx, radii):\n",
        "    # Convert pixel coordinates to geographical coordinates\n",
        "    x_geo, y_geo = src.xy(center_y, center_x)\n",
        "\n",
        "    # Create a Point geometry representing the circle center in the GeoDataFrame\n",
        "    circle_center = Point(x_geo, y_geo)\n",
        "\n",
        "    # Add the circle center to the GeoDataFrame for wells\n",
        "    gdf_wells = gdf_wells.append({'geometry': circle_center}, ignore_index=True)\n",
        "\n",
        "# Save the GeoDataFrame as a shapefile for wells\n",
        "output_wells_shapefile = \"/content/drive/MyDrive/FarmWise AI/CV Assignment with Dataset (1)/CV Assignment with Dataset/satellite_image/wells_shape_file.shp\"\n",
        "gdf_wells.to_file(output_wells_shapefile)\n",
        "\n",
        "# Plot the detected wells as blue circles on the satellite image\n",
        "plt.imshow(satellite_image.transpose(1, 2, 0))\n",
        "plt.title(\"Satellite Image with Wells\")\n",
        "plt.axis('off')\n",
        "\n",
        "for center_y, center_x, radius in zip(cy, cx, radii):\n",
        "    circle = Circle((center_x, center_y), radius, color='blue', linewidth=2, fill=False)\n",
        "    plt.gca().add_patch(circle)\n",
        "\n",
        "plt.show()"
      ],
      "metadata": {
        "id": "9Z2Va9KTW1rH"
      },
      "execution_count": null,
      "outputs": []
    },
    {
      "cell_type": "markdown",
      "source": [
        "# Farm Boundaries"
      ],
      "metadata": {
        "id": "JFdd3ROsn3O5"
      }
    },
    {
      "cell_type": "code",
      "source": [
        "!pip install numpy rasterio matplotlib scikit-image shapely opencv-python geopandas\n"
      ],
      "metadata": {
        "id": "8JkRoZZL0TRE"
      },
      "execution_count": null,
      "outputs": []
    },
    {
      "cell_type": "code",
      "source": [
        "import os\n",
        "import numpy as np\n",
        "import rasterio\n",
        "from skimage.segmentation import slic\n",
        "from skimage.measure import regionprops\n",
        "from shapely.geometry import Polygon\n",
        "import cv2\n",
        "\n",
        "# Function to preprocess the satellite image\n",
        "def preprocess_image(image):\n",
        "    # Convert to grayscale\n",
        "    gray_image = cv2.cvtColor(image, cv2.COLOR_RGB2GRAY)\n",
        "\n",
        "    # Enhance contrast\n",
        "    enhanced_image = cv2.equalizeHist(gray_image)\n",
        "\n",
        "    return enhanced_image\n",
        "\n",
        "import geopandas as gpd\n",
        "\n",
        "def save_farm_boundaries_to_shapefile(boundaries, file_path):\n",
        "    # Create a GeoDataFrame from the polygons\n",
        "    gdf = gpd.GeoDataFrame(geometry=gpd.GeoSeries(boundaries))\n",
        "\n",
        "    # Set the CRS for the GeoDataFrame to EPSG:4326 - WGS 84\n",
        "    gdf.crs = 'EPSG:4326'\n",
        "\n",
        "    # Save as a shapefile\n",
        "    gdf.to_file(file_path)\n",
        "\n",
        "# Load the satellite image using rasterio\n",
        "file_path = \"/content/drive/MyDrive/FarmWise AI/CV Assignment with Dataset (1)/CV Assignment with Dataset/satellite_image/kariyamangalam_clipped_raster.tif\"\n",
        "with rasterio.open(file_path) as src:\n",
        "    satellite_image = src.read()\n",
        "\n",
        "# Preprocess the satellite image\n",
        "preprocessed_image = preprocess_image(satellite_image.transpose(1, 2, 0))\n",
        "\n",
        "# Edge detection using Canny edge detector\n",
        "edges = cv2.Canny(preprocessed_image, threshold1=100, threshold2=200)\n",
        "\n",
        "# Post-process the binary edges to obtain farm boundaries using contour detection\n",
        "contours, _ = cv2.findContours(edges, cv2.RETR_EXTERNAL, cv2.CHAIN_APPROX_SIMPLE)\n",
        "\n",
        "# Filter out contours with too few points\n",
        "min_points = 4\n",
        "valid_contours = [contour for contour in contours if len(contour) >= min_points]\n",
        "\n",
        "# Extract the farm boundaries as polygons\n",
        "farm_boundaries = [Polygon(np.squeeze(contour)) for contour in valid_contours]\n",
        "\n",
        "# Save the detected farm boundaries as a shapefile\n",
        "output_farm_shapefile = \"/content/drive/MyDrive/FarmWise AI/CV Assignment with Dataset (1)/CV Assignment with Dataset/farm_boundaries.shp\"\n",
        "save_farm_boundaries_to_shapefile(farm_boundaries, output_farm_shapefile)\n"
      ],
      "metadata": {
        "id": "D-XnkQGerqa3"
      },
      "execution_count": 34,
      "outputs": []
    }
  ]
}